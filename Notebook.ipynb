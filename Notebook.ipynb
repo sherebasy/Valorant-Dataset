{
 "cells": [
  {
   "cell_type": "code",
   "execution_count": 1,
   "id": "7513c778-15d7-4d81-8bfa-7a73cfc37b00",
   "metadata": {},
   "outputs": [],
   "source": [
    "from Video import Video\n",
    "from DataExtractor import DataExtractor"
   ]
  },
  {
   "cell_type": "code",
   "execution_count": 2,
   "id": "c7ab7b4b-f8b4-4ac3-87c3-eebe77ec799e",
   "metadata": {},
   "outputs": [
    {
     "name": "stdout",
     "output_type": "stream",
     "text": [
      "[2022/03/04 20:13:40] pytube.helpers DEBUG: matched regex search: (?:v=|\\/)([0-9A-Za-z_-]{11}).*\n",
      "[2022/03/04 20:13:42] pytube.extract DEBUG: applying descrambler\n",
      "[2022/03/04 20:13:42] pytube.extract DEBUG: finding initial function name\n",
      "[2022/03/04 20:13:42] pytube.extract DEBUG: Pattern failed: ytplayer\\.config\\s*=\\s*\n",
      "[2022/03/04 20:13:42] pytube.extract DEBUG: Could not parse object.\n",
      "[2022/03/04 20:13:42] pytube.extract DEBUG: finished regex search, matched: (/s/player/[\\w\\d]+/[\\w\\d_/.]+/base\\.js)\n",
      "[2022/03/04 20:13:45] pytube.cipher DEBUG: finding initial function name\n",
      "[2022/03/04 20:13:45] pytube.cipher DEBUG: finished regex search, matched: (?P<sig>[a-zA-Z0-9$]+)\\s*=\\s*function\\(\\s*a\\s*\\)\\s*{\\s*a\\s*=\\s*a\\.split\\(\\s*\"\"\\s*\\)\n",
      "[2022/03/04 20:13:45] pytube.cipher DEBUG: getting transform plan\n",
      "[2022/03/04 20:13:45] pytube.helpers DEBUG: matched regex search: mra=function\\(\\w\\){[a-z=\\.\\(\\\"\\)]*;(.*);(?:.+)}\n",
      "[2022/03/04 20:13:45] pytube.cipher DEBUG: getting transform object\n",
      "[2022/03/04 20:13:45] pytube.cipher DEBUG: Finding throttling function name\n",
      "[2022/03/04 20:13:45] pytube.cipher DEBUG: finished regex search, matched: a\\.[a-zA-Z]\\s*&&\\s*\\([a-z]\\s*=\\s*a\\.get\\(\"n\"\\)\\)\\s*&&\\s*\\([a-z]\\s*=\\s*([a-zA-Z0-9$]{3})(\\[\\d+\\])?\\([a-z]\\)\n",
      "[2022/03/04 20:13:45] pytube.cipher DEBUG: Finding throttling function name\n",
      "[2022/03/04 20:13:45] pytube.cipher DEBUG: finished regex search, matched: a\\.[a-zA-Z]\\s*&&\\s*\\([a-z]\\s*=\\s*a\\.get\\(\"n\"\\)\\)\\s*&&\\s*\\([a-z]\\s*=\\s*([a-zA-Z0-9$]{3})(\\[\\d+\\])?\\([a-z]\\)\n",
      "[2022/03/04 20:13:45] pytube.extract DEBUG: signature found, skip decipher\n",
      "[2022/03/04 20:13:45] pytube.extract DEBUG: signature found, skip decipher\n",
      "[2022/03/04 20:13:45] pytube.extract DEBUG: signature found, skip decipher\n",
      "[2022/03/04 20:13:45] pytube.extract DEBUG: signature found, skip decipher\n",
      "[2022/03/04 20:13:45] pytube.extract DEBUG: signature found, skip decipher\n",
      "[2022/03/04 20:13:45] pytube.extract DEBUG: signature found, skip decipher\n",
      "[2022/03/04 20:13:45] pytube.extract DEBUG: signature found, skip decipher\n",
      "[2022/03/04 20:13:45] pytube.extract DEBUG: signature found, skip decipher\n",
      "[2022/03/04 20:13:45] pytube.extract DEBUG: signature found, skip decipher\n",
      "[2022/03/04 20:13:45] pytube.extract DEBUG: signature found, skip decipher\n",
      "[2022/03/04 20:13:45] pytube.extract DEBUG: signature found, skip decipher\n",
      "[2022/03/04 20:13:45] pytube.extract DEBUG: signature found, skip decipher\n",
      "[2022/03/04 20:13:45] pytube.extract DEBUG: signature found, skip decipher\n",
      "[2022/03/04 20:13:45] pytube.extract DEBUG: signature found, skip decipher\n",
      "[2022/03/04 20:13:45] pytube.extract DEBUG: signature found, skip decipher\n",
      "[2022/03/04 20:13:45] pytube.extract DEBUG: signature found, skip decipher\n",
      "[2022/03/04 20:13:45] pytube.extract DEBUG: signature found, skip decipher\n",
      "[2022/03/04 20:13:45] pytube.extract DEBUG: signature found, skip decipher\n",
      "[2022/03/04 20:13:45] pytube.extract DEBUG: signature found, skip decipher\n",
      "[2022/03/04 20:13:45] pytube.extract DEBUG: signature found, skip decipher\n",
      "[2022/03/04 20:13:45] pytube.extract DEBUG: signature found, skip decipher\n",
      "Downloading Video: Valorant : Full Game (No Commentary)\n",
      "[2022/03/04 20:13:45] pytube.streams DEBUG: downloading (591907667 total bytes) file to C:\\Users\\43681\\Desktop\\Study\\Third Semester\\Practical Work in AI\\ppocr_img\\ppocr_img\\vidzzz\\valorant.mp4\n",
      "[2022/03/04 20:14:03] pytube.streams DEBUG: download remaining: 582470483\n",
      "[2022/03/04 20:14:15] pytube.streams DEBUG: download remaining: 573033299\n",
      "[2022/03/04 20:14:33] pytube.streams DEBUG: download remaining: 563596115\n",
      "[2022/03/04 20:14:48] pytube.streams DEBUG: download remaining: 554158931\n",
      "[2022/03/04 20:15:03] pytube.streams DEBUG: download remaining: 544721747\n",
      "[2022/03/04 20:15:23] pytube.streams DEBUG: download remaining: 535284563\n",
      "[2022/03/04 20:15:30] pytube.streams DEBUG: download remaining: 525847379\n",
      "[2022/03/04 20:15:42] pytube.streams DEBUG: download remaining: 516410195\n",
      "[2022/03/04 20:15:55] pytube.streams DEBUG: download remaining: 506973011\n",
      "[2022/03/04 20:16:04] pytube.streams DEBUG: download remaining: 497535827\n",
      "[2022/03/04 20:16:15] pytube.streams DEBUG: download remaining: 488098643\n",
      "[2022/03/04 20:16:23] pytube.streams DEBUG: download remaining: 478661459\n",
      "[2022/03/04 20:16:33] pytube.streams DEBUG: download remaining: 469224275\n",
      "[2022/03/04 20:16:53] pytube.streams DEBUG: download remaining: 459787091\n",
      "[2022/03/04 20:17:12] pytube.streams DEBUG: download remaining: 450349907\n",
      "[2022/03/04 20:17:21] pytube.streams DEBUG: download remaining: 440912723\n",
      "[2022/03/04 20:17:30] pytube.streams DEBUG: download remaining: 431475539\n",
      "[2022/03/04 20:17:40] pytube.streams DEBUG: download remaining: 422038355\n",
      "[2022/03/04 20:17:48] pytube.streams DEBUG: download remaining: 412601171\n",
      "[2022/03/04 20:17:56] pytube.streams DEBUG: download remaining: 403163987\n",
      "[2022/03/04 20:18:07] pytube.streams DEBUG: download remaining: 393726803\n",
      "[2022/03/04 20:18:15] pytube.streams DEBUG: download remaining: 384289619\n",
      "[2022/03/04 20:18:25] pytube.streams DEBUG: download remaining: 374852435\n",
      "[2022/03/04 20:18:32] pytube.streams DEBUG: download remaining: 365415251\n",
      "[2022/03/04 20:18:40] pytube.streams DEBUG: download remaining: 355978067\n",
      "[2022/03/04 20:18:50] pytube.streams DEBUG: download remaining: 346540883\n",
      "[2022/03/04 20:18:58] pytube.streams DEBUG: download remaining: 337103699\n",
      "[2022/03/04 20:19:07] pytube.streams DEBUG: download remaining: 327666515\n",
      "[2022/03/04 20:19:14] pytube.streams DEBUG: download remaining: 318229331\n",
      "[2022/03/04 20:19:21] pytube.streams DEBUG: download remaining: 308792147\n",
      "[2022/03/04 20:19:29] pytube.streams DEBUG: download remaining: 299354963\n",
      "[2022/03/04 20:19:37] pytube.streams DEBUG: download remaining: 289917779\n",
      "[2022/03/04 20:19:45] pytube.streams DEBUG: download remaining: 280480595\n",
      "[2022/03/04 20:19:55] pytube.streams DEBUG: download remaining: 271043411\n",
      "[2022/03/04 20:20:03] pytube.streams DEBUG: download remaining: 261606227\n",
      "[2022/03/04 20:20:10] pytube.streams DEBUG: download remaining: 252169043\n",
      "[2022/03/04 20:20:17] pytube.streams DEBUG: download remaining: 242731859\n",
      "[2022/03/04 20:20:27] pytube.streams DEBUG: download remaining: 233294675\n",
      "[2022/03/04 20:20:34] pytube.streams DEBUG: download remaining: 223857491\n",
      "[2022/03/04 20:20:43] pytube.streams DEBUG: download remaining: 214420307\n",
      "[2022/03/04 20:20:54] pytube.streams DEBUG: download remaining: 204983123\n",
      "[2022/03/04 20:21:03] pytube.streams DEBUG: download remaining: 195545939\n",
      "[2022/03/04 20:21:16] pytube.streams DEBUG: download remaining: 186108755\n",
      "[2022/03/04 20:21:26] pytube.streams DEBUG: download remaining: 176671571\n",
      "[2022/03/04 20:21:36] pytube.streams DEBUG: download remaining: 167234387\n",
      "[2022/03/04 20:21:45] pytube.streams DEBUG: download remaining: 157797203\n",
      "[2022/03/04 20:21:54] pytube.streams DEBUG: download remaining: 148360019\n",
      "[2022/03/04 20:22:10] pytube.streams DEBUG: download remaining: 138922835\n",
      "[2022/03/04 20:22:33] pytube.streams DEBUG: download remaining: 129485651\n",
      "[2022/03/04 20:23:01] pytube.streams DEBUG: download remaining: 120048467\n",
      "[2022/03/04 20:23:09] pytube.streams DEBUG: download remaining: 110611283\n",
      "[2022/03/04 20:23:20] pytube.streams DEBUG: download remaining: 101174099\n",
      "[2022/03/04 20:23:34] pytube.streams DEBUG: download remaining: 91736915\n",
      "[2022/03/04 20:23:45] pytube.streams DEBUG: download remaining: 82299731\n",
      "[2022/03/04 20:23:57] pytube.streams DEBUG: download remaining: 72862547\n",
      "[2022/03/04 20:24:16] pytube.streams DEBUG: download remaining: 63425363\n",
      "[2022/03/04 20:24:26] pytube.streams DEBUG: download remaining: 53988179\n",
      "[2022/03/04 20:24:35] pytube.streams DEBUG: download remaining: 44550995\n",
      "[2022/03/04 20:24:43] pytube.streams DEBUG: download remaining: 35113811\n",
      "[2022/03/04 20:24:52] pytube.streams DEBUG: download remaining: 25676627\n",
      "[2022/03/04 20:25:01] pytube.streams DEBUG: download remaining: 16239443\n",
      "[2022/03/04 20:25:08] pytube.streams DEBUG: download remaining: 6802259\n",
      "[2022/03/04 20:25:14] pytube.streams DEBUG: download remaining: 0\n",
      "[2022/03/04 20:25:14] pytube.streams DEBUG: download finished\n",
      "Finished Downloading\n",
      "Extracting frames!\n"
     ]
    },
    {
     "name": "stderr",
     "output_type": "stream",
     "text": [
      "66960it [02:39, 418.79it/s]\n",
      "100%|█████████████████████████████████████████████████████████████████████████████████████████████████████████████████████████████████████████████████████████████████████████████████████████| 2232/2232 [00:00<00:00, 2250946.51it/s]"
     ]
    },
    {
     "name": "stdout",
     "output_type": "stream",
     "text": [
      "Frames extracted!\n"
     ]
    },
    {
     "name": "stderr",
     "output_type": "stream",
     "text": [
      "\n"
     ]
    }
   ],
   "source": [
    "# vid_location can be a YouTube link or the location on the drive\n",
    "# save_dir is where to save all the data\n",
    "# filename required only if downloading from YouTube is the name of saved video file\n",
    "vid = Video(vid_location='https://www.youtube.com/watch?v=dlXkJ4JS8Ro', save_dir='vidzzz', filename='valorant')"
   ]
  },
  {
   "cell_type": "code",
   "execution_count": 3,
   "id": "421aa998-76c5-4dae-9798-d8a650996b0a",
   "metadata": {},
   "outputs": [
    {
     "name": "stdout",
     "output_type": "stream",
     "text": [
      "[2022/03/04 20:27:54] root WARNING: lang en is not support in PP-OCRv2, auto switch to version PP-OCR\n",
      "[2022/03/04 20:27:54] root WARNING: lang en is not support in PP-OCRv2, auto switch to version PP-OCR\n",
      "[2022/03/04 20:27:54] root WARNING: version PP-OCRv2 not support cls models, auto switch to version PP-OCR\n",
      "Namespace(help='==SUPPRESS==', use_gpu=True, ir_optim=True, use_tensorrt=False, min_subgraph_size=15, precision='fp32', gpu_mem=500, image_dir=None, det_algorithm='DB', det_model_dir='C:\\\\Users\\\\43681/.paddleocr/2.3.0.2\\\\ocr\\\\det\\\\en\\\\en_ppocr_mobile_v2.0_det_infer', det_limit_side_len=960, det_limit_type='max', det_db_thresh=0.3, det_db_box_thresh=0.6, det_db_unclip_ratio=1.5, max_batch_size=10, use_dilation=False, det_db_score_mode='fast', det_east_score_thresh=0.8, det_east_cover_thresh=0.1, det_east_nms_thresh=0.2, det_sast_score_thresh=0.5, det_sast_nms_thresh=0.2, det_sast_polygon=False, det_pse_thresh=0, det_pse_box_thresh=0.85, det_pse_min_area=16, det_pse_box_type='box', det_pse_scale=1, rec_algorithm='CRNN', rec_model_dir='C:\\\\Users\\\\43681/.paddleocr/2.3.0.2\\\\ocr\\\\rec\\\\en\\\\en_number_mobile_v2.0_rec_infer', rec_image_shape='3, 32, 320', rec_batch_num=6, max_text_length=25, rec_char_dict_path='C:\\\\Users\\\\43681\\\\anaconda3\\\\envs\\\\paddle_env\\\\lib\\\\site-packages\\\\paddleocr\\\\ppocr\\\\utils\\\\en_dict.txt', use_space_char=True, vis_font_path='./doc/fonts/simfang.ttf', drop_score=0.5, e2e_algorithm='PGNet', e2e_model_dir='models/e2e_server_pgnetA_infer', e2e_limit_side_len=768, e2e_limit_type='max', e2e_pgnet_score_thresh=0.5, e2e_char_dict_path='./ppocr/utils/ic15_dict.txt', e2e_pgnet_valid_set='totaltext', e2e_pgnet_polygon=True, e2e_pgnet_mode='fast', use_angle_cls=False, cls_model_dir='C:\\\\Users\\\\43681/.paddleocr/2.3.0.2\\\\ocr\\\\cls\\\\ch_ppocr_mobile_v2.0_cls_infer', cls_image_shape='3, 48, 192', label_list=['0', '180'], cls_batch_num=6, cls_thresh=0.9, enable_mkldnn=False, cpu_threads=10, use_pdserving=False, warmup=True, use_mp=False, total_process_num=1, process_id=0, benchmark=False, save_log_path='./log_output/', show_log=False, use_onnx=False, output='./output/table', table_max_len=488, table_model_dir=None, table_char_type='en', table_char_dict_path=None, layout_path_model='lp://PubLayNet/ppyolov2_r50vd_dcn_365e_publaynet/config', lang='en', det=True, rec=True, type='ocr', ocr_version='PP-OCRv2', structure_version='STRUCTURE')\n",
      "Extracting economy!\n",
      "download https://paddleocr.bj.bcebos.com/dygraph_v2.0/multilingual/en_number_mobile_v2.0_rec_infer.tar to models\\en_number_mobile_v2.0_rec_infer\\en_number_mobile_v2.0_rec_infer.tar\n"
     ]
    },
    {
     "name": "stderr",
     "output_type": "stream",
     "text": [
      "100%|█████████████████████████████████████████████████████████████████████████████████████████████████████████████████████████████████████████████████████████████████████████████████████████████| 2.70M/2.70M [00:16<00:00, 168kiB/s]\n"
     ]
    },
    {
     "name": "stdout",
     "output_type": "stream",
     "text": [
      "Namespace(help='==SUPPRESS==', use_gpu=True, ir_optim=True, use_tensorrt=False, min_subgraph_size=15, precision='fp32', gpu_mem=500, image_dir=None, det_algorithm='DB', det_model_dir='models\\\\ch_ppocr_server_v2.0_det_infer', det_limit_side_len=960, det_limit_type='max', det_db_thresh=0.3, det_db_box_thresh=0.6, det_db_unclip_ratio=1.5, max_batch_size=10, use_dilation=False, det_db_score_mode='fast', det_east_score_thresh=0.8, det_east_cover_thresh=0.1, det_east_nms_thresh=0.2, det_sast_score_thresh=0.5, det_sast_nms_thresh=0.2, det_sast_polygon=False, det_pse_thresh=0, det_pse_box_thresh=0.85, det_pse_min_area=16, det_pse_box_type='box', det_pse_scale=1, rec_algorithm='CRNN', rec_model_dir='models\\\\en_number_mobile_v2.0_rec_infer', rec_image_shape='3, 32, 320', rec_batch_num=6, max_text_length=25, rec_char_dict_path='C:\\\\Users\\\\43681\\\\anaconda3\\\\envs\\\\paddle_env\\\\lib\\\\site-packages\\\\paddleocr\\\\ppocr\\\\utils\\\\en_dict.txt', use_space_char=True, vis_font_path='./doc/fonts/simfang.ttf', drop_score=0.5, e2e_algorithm='PGNet', e2e_model_dir=None, e2e_limit_side_len=768, e2e_limit_type='max', e2e_pgnet_score_thresh=0.5, e2e_char_dict_path='./ppocr/utils/ic15_dict.txt', e2e_pgnet_valid_set='totaltext', e2e_pgnet_polygon=True, e2e_pgnet_mode='fast', use_angle_cls=False, cls_model_dir='C:\\\\Users\\\\43681/.paddleocr/2.3.0.2\\\\ocr\\\\cls\\\\ch_ppocr_mobile_v2.0_cls_infer', cls_image_shape='3, 48, 192', label_list=['0', '180'], cls_batch_num=6, cls_thresh=0.9, enable_mkldnn=False, cpu_threads=10, use_pdserving=False, warmup=True, use_mp=False, total_process_num=1, process_id=0, benchmark=False, save_log_path='./log_output/', show_log=False, use_onnx=False, output='./output/table', table_max_len=488, table_model_dir=None, table_char_type='en', table_char_dict_path=None, layout_path_model='lp://PubLayNet/ppyolov2_r50vd_dcn_365e_publaynet/config', lang='en', det=True, rec=True, type='ocr', ocr_version='PP-OCR', structure_version='STRUCTURE')\n"
     ]
    },
    {
     "name": "stderr",
     "output_type": "stream",
     "text": [
      "100%|██████████████████████████████████████████████████████████████████████████████████████████████████████████████████████████████████████████████████████████████████████████████████████████████| 2232/2232 [08:11<00:00,  4.54it/s]\n"
     ]
    },
    {
     "name": "stdout",
     "output_type": "stream",
     "text": [
      "Extracting time!\n"
     ]
    },
    {
     "name": "stderr",
     "output_type": "stream",
     "text": [
      "100%|██████████████████████████████████████████████████████████████████████████████████████████████████████████████████████████████████████████████████████████████████████████████████████████████| 2232/2232 [12:32<00:00,  2.97it/s]\n",
      "100%|██████████████████████████████████████████████████████████████████████████████████████████████████████████████████████████████████████████████████████████████████████████████████████████████| 2232/2232 [01:51<00:00, 20.05it/s]\n"
     ]
    },
    {
     "name": "stdout",
     "output_type": "stream",
     "text": [
      "Extracting team won rounds!\n"
     ]
    },
    {
     "name": "stderr",
     "output_type": "stream",
     "text": [
      "100%|██████████████████████████████████████████████████████████████████████████████████████████████████████████████████████████████████████████████████████████████████████████████████████████████| 2232/2232 [13:11<00:00,  2.82it/s]\n"
     ]
    },
    {
     "name": "stdout",
     "output_type": "stream",
     "text": [
      "Extracting opponent won rounds!\n"
     ]
    },
    {
     "name": "stderr",
     "output_type": "stream",
     "text": [
      "100%|██████████████████████████████████████████████████████████████████████████████████████████████████████████████████████████████████████████████████████████████████████████████████████████████| 2232/2232 [13:00<00:00,  2.86it/s]\n",
      "100%|██████████████████████████████████████████████████████████████████████████████████████████████████████████████████████████████████████████████████████████████████████████████████████████████| 2232/2232 [03:27<00:00, 10.76it/s]\n",
      "100%|██████████████████████████████████████████████████████████████████████████████████████████████████████████████████████████████████████████████████████████████████████████████████████████████| 2232/2232 [07:32<00:00,  4.93it/s]\n"
     ]
    }
   ],
   "source": [
    "d = DataExtractor(frames=vid.frames, save_dir='vidzzzz', use_gpu=True)"
   ]
  },
  {
   "cell_type": "code",
   "execution_count": null,
   "id": "d0630f14-6870-452f-8916-073aaf056ec8",
   "metadata": {},
   "outputs": [],
   "source": []
  }
 ],
 "metadata": {
  "kernelspec": {
   "display_name": "Python 3 (ipykernel)",
   "language": "python",
   "name": "python3"
  },
  "language_info": {
   "codemirror_mode": {
    "name": "ipython",
    "version": 3
   },
   "file_extension": ".py",
   "mimetype": "text/x-python",
   "name": "python",
   "nbconvert_exporter": "python",
   "pygments_lexer": "ipython3",
   "version": "3.9.7"
  }
 },
 "nbformat": 4,
 "nbformat_minor": 5
}
